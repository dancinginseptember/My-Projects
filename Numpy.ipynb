{
  "nbformat": 4,
  "nbformat_minor": 0,
  "metadata": {
    "colab": {
      "provenance": []
    },
    "kernelspec": {
      "name": "python3",
      "display_name": "Python 3"
    },
    "language_info": {
      "name": "python"
    }
  },
  "cells": [
    {
      "cell_type": "markdown",
      "source": [
        "1"
      ],
      "metadata": {
        "id": "0qb5AXbI2U4p"
      }
    },
    {
      "cell_type": "code",
      "execution_count": null,
      "metadata": {
        "colab": {
          "base_uri": "https://localhost:8080/"
        },
        "id": "TAswlQFvxiKo",
        "outputId": "e3ed5ecc-6c01-448b-e07d-6cf5c5e4f298"
      },
      "outputs": [
        {
          "output_type": "stream",
          "name": "stdout",
          "text": [
            "оценка за курс = 8\n"
          ]
        }
      ],
      "source": [
        "import numpy as np\n",
        "\n",
        "def result_mark(weights: np.array, marks: np.array) -> int:\n",
        "  weighted_sum = np.dot(weights, marks)\n",
        "  return int(round(weighted_sum))\n",
        "\n",
        "weights = np.array([0.3, 0.4, 0.2, 0.1])\n",
        "marks = np.array([7, 10, 8, 6])\n",
        "\n",
        "res = result_mark(weights, marks)\n",
        "print(res)"
      ]
    },
    {
      "cell_type": "markdown",
      "source": [
        "2"
      ],
      "metadata": {
        "id": "RU_XiptY2Y1V"
      }
    },
    {
      "cell_type": "code",
      "source": [
        "import numpy as np\n",
        "\n",
        "def change_array(array, number):\n",
        "    array[::3] = number\n",
        "    return array\n",
        "\n",
        "array = np.array([3, 5, 1, 0, -3, 22, 213436])\n",
        "number = -111\n",
        "\n",
        "res = change_array(array, number)\n",
        "print(res)\n"
      ],
      "metadata": {
        "colab": {
          "base_uri": "https://localhost:8080/"
        },
        "id": "2L3AhJhNyjPC",
        "outputId": "e9bf51cf-f6e6-4ce3-da7a-d9b42e1a18c5"
      },
      "execution_count": null,
      "outputs": [
        {
          "output_type": "stream",
          "name": "stdout",
          "text": [
            "[-111    5    1 -111   -3   22 -111]\n"
          ]
        }
      ]
    },
    {
      "cell_type": "markdown",
      "source": [
        "3"
      ],
      "metadata": {
        "id": "ZPkzFaTc2eAf"
      }
    },
    {
      "cell_type": "code",
      "source": [
        "import numpy as np\n",
        "\n",
        "def find_close(array1, array2, precision):\n",
        "    abs_diff = np.abs(array1 - array2)\n",
        "    close_indices = np.where(abs_diff <= precision)[0]\n",
        "    return close_indices\n",
        "\n",
        "array1 = np.array([1.5, 0.5, 2, -4.1, -3, 6, -1])\n",
        "array2 = np.array([1.2, 0.5, 1, -4.0, 3, 0, -1.2])\n",
        "precision = 0.5\n",
        "\n",
        "res = find_close(array1, array2, precision)\n",
        "print(res)"
      ],
      "metadata": {
        "colab": {
          "base_uri": "https://localhost:8080/"
        },
        "id": "hQEvsih10w50",
        "outputId": "9524e50c-73d5-408a-ff21-e803860a567f"
      },
      "execution_count": null,
      "outputs": [
        {
          "output_type": "stream",
          "name": "stdout",
          "text": [
            "[0 1 3 6]\n"
          ]
        }
      ]
    },
    {
      "cell_type": "markdown",
      "source": [
        "4"
      ],
      "metadata": {
        "id": "xbiUkQ-Pei55"
      }
    },
    {
      "cell_type": "code",
      "source": [
        "import numpy as np\n",
        "\n",
        "def block_matrix(block):\n",
        "    top_row = np.hstack((block, block))\n",
        "    bottom_row = np.hstack((block, block))\n",
        "    return np.vstack((top_row, bottom_row))\n",
        "\n",
        "block = np.array([[0, 1, 2], [3, 4, 5]])\n",
        "\n",
        "res = block_matrix(block)\n",
        "print(res)\n"
      ],
      "metadata": {
        "colab": {
          "base_uri": "https://localhost:8080/"
        },
        "id": "2NGeRJK5ekvM",
        "outputId": "64c2517a-36af-4928-aa06-ae7c49279bcb"
      },
      "execution_count": null,
      "outputs": [
        {
          "output_type": "stream",
          "name": "stdout",
          "text": [
            "[[0 1 2 0 1 2]\n",
            " [3 4 5 3 4 5]\n",
            " [0 1 2 0 1 2]\n",
            " [3 4 5 3 4 5]]\n"
          ]
        }
      ]
    },
    {
      "cell_type": "markdown",
      "source": [
        "5"
      ],
      "metadata": {
        "id": "k0RC4RbyfB5d"
      }
    },
    {
      "cell_type": "code",
      "source": [
        "import numpy as np\n",
        "\n",
        "def diag_prod(matrix):\n",
        "    diag_elements = matrix.diagonal()\n",
        "    non_zero_diag_elements = diag_elements[diag_elements != 0]\n",
        "    result = np.prod(non_zero_diag_elements)\n",
        "    return result\n",
        "\n",
        "matrix = np.array([[0, 1, 2],\n",
        "                   [3, 4, 5],\n",
        "                   [6, 7, 8]])\n",
        "\n",
        "res = diag_prod(matrix)\n",
        "print(res)\n",
        "\n"
      ],
      "metadata": {
        "colab": {
          "base_uri": "https://localhost:8080/"
        },
        "id": "6zgtD5QdfCfn",
        "outputId": "4423bdd8-407a-4b55-c409-32db19692ca2"
      },
      "execution_count": null,
      "outputs": [
        {
          "output_type": "stream",
          "name": "stdout",
          "text": [
            "32\n"
          ]
        }
      ]
    },
    {
      "cell_type": "markdown",
      "source": [
        "6"
      ],
      "metadata": {
        "id": "Fpa751rIggWY"
      }
    },
    {
      "cell_type": "code",
      "source": [
        "import numpy as np\n",
        "\n",
        "def normalize(matrix: np.array) -> np.array:\n",
        "    means = np.mean(matrix, axis=0)\n",
        "    stds = np.std(matrix, axis=0)\n",
        "    stds[stds == 0] = 1\n",
        "    normal_matrix = (matrix - means) / stds\n",
        "    return normal_matrix\n",
        "\n",
        "matrix = np.array([[-7, 2, 42], [2, 10, 50], [5, 4, 10]])\n",
        "normal_matrix = normalize(matrix)\n",
        "print(normal_matrix)\n"
      ],
      "metadata": {
        "colab": {
          "base_uri": "https://localhost:8080/"
        },
        "id": "SYTMTjsdgg2I",
        "outputId": "e8892a3e-8cd3-47d2-c7db-6c764a82ec64"
      },
      "execution_count": null,
      "outputs": [
        {
          "output_type": "stream",
          "name": "stdout",
          "text": [
            "[[-1.37281295 -0.98058068  0.46291005]\n",
            " [ 0.39223227  1.37281295  0.9258201 ]\n",
            " [ 0.98058068 -0.39223227 -1.38873015]]\n"
          ]
        }
      ]
    },
    {
      "cell_type": "markdown",
      "source": [
        "8"
      ],
      "metadata": {
        "id": "kD3aqDHrjKGV"
      }
    },
    {
      "cell_type": "code",
      "source": [
        "import numpy as np\n",
        "\n",
        "def make_symmetric(matrix: np.array) -> np.array:\n",
        "    return matrix + matrix.T - np.diag(matrix.diagonal())\n",
        "\n",
        "matrix = np.array([[1, 2, 3, 4], [0, 5, 6, 7], [0, 0, 8, 9], [0, 0, 0, 10]])\n",
        "res = make_symmetric(matrix)\n",
        "print(res)\n"
      ],
      "metadata": {
        "colab": {
          "base_uri": "https://localhost:8080/"
        },
        "id": "EnBXx2iZjKj2",
        "outputId": "6865fdea-a9d0-4240-cc54-0dcc6a61d4c3"
      },
      "execution_count": null,
      "outputs": [
        {
          "output_type": "stream",
          "name": "stdout",
          "text": [
            "[[ 1  2  3  4]\n",
            " [ 2  5  6  7]\n",
            " [ 3  6  8  9]\n",
            " [ 4  7  9 10]]\n"
          ]
        }
      ]
    },
    {
      "cell_type": "markdown",
      "source": [
        "9"
      ],
      "metadata": {
        "id": "Vfi9jvWYjmOd"
      }
    },
    {
      "cell_type": "code",
      "source": [
        "import numpy as np\n",
        "\n",
        "def construct_matrix(m: int, a:int, b: int) -> np.array:\n",
        "    row = np.arange(a, b + 1)\n",
        "    result = np.tile(row, (m, 1))\n",
        "    return result\n",
        "\n",
        "m = 3\n",
        "a = 2\n",
        "b = 6\n",
        "res = construct_matrix(m, a, b)\n",
        "print(res)\n"
      ],
      "metadata": {
        "colab": {
          "base_uri": "https://localhost:8080/"
        },
        "id": "_eda_id7jmtn",
        "outputId": "82e5a798-b9b7-47c0-fec4-91f744d11e8b"
      },
      "execution_count": null,
      "outputs": [
        {
          "output_type": "stream",
          "name": "stdout",
          "text": [
            "[[2 3 4 5 6]\n",
            " [2 3 4 5 6]\n",
            " [2 3 4 5 6]]\n"
          ]
        }
      ]
    },
    {
      "cell_type": "markdown",
      "source": [
        "10"
      ],
      "metadata": {
        "id": "ukNSRvetkd4y"
      }
    },
    {
      "cell_type": "code",
      "source": [
        "import numpy as np\n",
        "\n",
        "def cosine_similarity(vec1: np.array, vec2: np.array) -> float:\n",
        "    dot_product = np.dot(vec1, vec2)\n",
        "    norm_vec1 = np.linalg.norm(vec1)\n",
        "    norm_vec2 = np.linalg.norm(vec2)\n",
        "    similarity = dot_product / (norm_vec1 * norm_vec2)\n",
        "    return similarity\n",
        "\n",
        "vec1 = np.array([-2, 1, 0, -5, 4, 3, -3])\n",
        "vec2 = np.array([0, 2, -2, 10, 6, 0, 0])\n",
        "res = cosine_similarity(vec1, vec2)\n",
        "print(res)\n"
      ],
      "metadata": {
        "colab": {
          "base_uri": "https://localhost:8080/"
        },
        "id": "DOgPjmyLkdsO",
        "outputId": "a95410a4-00ba-46db-9eb4-fa26bfcc77ce"
      },
      "execution_count": null,
      "outputs": [
        {
          "output_type": "stream",
          "name": "stdout",
          "text": [
            "-0.25\n"
          ]
        }
      ]
    }
  ]
}